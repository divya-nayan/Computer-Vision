{
 "cells": [
  {
   "cell_type": "code",
   "execution_count": 1,
   "id": "6396c15d",
   "metadata": {
    "_cell_guid": "b1076dfc-b9ad-4769-8c92-a6c4dae69d19",
    "_uuid": "8f2839f25d086af736a60e9eeb907d3b93b6e0e5",
    "execution": {
     "iopub.execute_input": "2023-04-06T01:33:33.161815Z",
     "iopub.status.busy": "2023-04-06T01:33:33.160663Z",
     "iopub.status.idle": "2023-04-06T01:33:42.173875Z",
     "shell.execute_reply": "2023-04-06T01:33:42.172744Z"
    },
    "papermill": {
     "duration": 9.025975,
     "end_time": "2023-04-06T01:33:42.176735",
     "exception": false,
     "start_time": "2023-04-06T01:33:33.150760",
     "status": "completed"
    },
    "tags": []
   },
   "outputs": [],
   "source": [
    "import os\n",
    "os.environ[\"TF_CPP_MIN_LOG_LEVEL\"] = \"2\"\n",
    "\n",
    "import numpy as np\n",
    "import cv2\n",
    "from glob import glob\n",
    "import seaborn as sns\n",
    "import matplotlib.pyplot as plt\n",
    "from sklearn.utils import shuffle\n",
    "import tensorflow as tf\n",
    "from tensorflow.keras import backend as K\n",
    "from tensorflow.keras.callbacks import ModelCheckpoint, CSVLogger\n",
    "from tensorflow.keras.callbacks import ReduceLROnPlateau, EarlyStopping, TensorBoard\n",
    "from tensorflow.keras.optimizers import Adam\n",
    "from sklearn.model_selection import train_test_split\n",
    "from tensorflow.keras.utils import CustomObjectScope\n",
    "from sklearn.metrics import f1_score, jaccard_score, precision_score, recall_score\n",
    "\n",
    "from tensorflow.keras.layers import Conv2D, BatchNormalization, Activation\n",
    "from tensorflow.keras.layers import MaxPool2D, Conv2DTranspose, Concatenate, Input\n",
    "from tensorflow.keras.models import Model"
   ]
  },
  {
   "cell_type": "code",
   "execution_count": 2,
   "id": "7df679db",
   "metadata": {
    "execution": {
     "iopub.execute_input": "2023-04-06T01:33:42.193352Z",
     "iopub.status.busy": "2023-04-06T01:33:42.192707Z",
     "iopub.status.idle": "2023-04-06T01:33:42.197819Z",
     "shell.execute_reply": "2023-04-06T01:33:42.196732Z"
    },
    "papermill": {
     "duration": 0.015643,
     "end_time": "2023-04-06T01:33:42.200003",
     "exception": false,
     "start_time": "2023-04-06T01:33:42.184360",
     "status": "completed"
    },
    "tags": []
   },
   "outputs": [],
   "source": [
    "np.random.seed(42)"
   ]
  },
  {
   "cell_type": "markdown",
   "id": "1f253899",
   "metadata": {
    "papermill": {
     "duration": 0.006817,
     "end_time": "2023-04-06T01:33:42.214084",
     "exception": false,
     "start_time": "2023-04-06T01:33:42.207267",
     "status": "completed"
    },
    "tags": []
   },
   "source": [
    "# Conv Block"
   ]
  },
  {
   "cell_type": "code",
   "execution_count": 3,
   "id": "ebff0c4f",
   "metadata": {
    "execution": {
     "iopub.execute_input": "2023-04-06T01:33:42.229458Z",
     "iopub.status.busy": "2023-04-06T01:33:42.229163Z",
     "iopub.status.idle": "2023-04-06T01:33:42.234309Z",
     "shell.execute_reply": "2023-04-06T01:33:42.233307Z"
    },
    "papermill": {
     "duration": 0.015495,
     "end_time": "2023-04-06T01:33:42.236525",
     "exception": false,
     "start_time": "2023-04-06T01:33:42.221030",
     "status": "completed"
    },
    "tags": []
   },
   "outputs": [],
   "source": [
    "def conv_block(inputs, num_filters):\n",
    "    x = Conv2D(num_filters, 3, padding=\"same\")(inputs)\n",
    "    x = BatchNormalization()(x)\n",
    "    x = Activation(\"relu\")(x)\n",
    "\n",
    "    x = Conv2D(num_filters, 3, padding=\"same\")(x)\n",
    "    x = BatchNormalization()(x)\n",
    "    x = Activation(\"relu\")(x)\n",
    "\n",
    "    return x"
   ]
  },
  {
   "cell_type": "markdown",
   "id": "9f9f1a11",
   "metadata": {
    "papermill": {
     "duration": 0.00685,
     "end_time": "2023-04-06T01:33:42.250252",
     "exception": false,
     "start_time": "2023-04-06T01:33:42.243402",
     "status": "completed"
    },
    "tags": []
   },
   "source": [
    "# Encoder Block"
   ]
  },
  {
   "cell_type": "code",
   "execution_count": 4,
   "id": "6a05996a",
   "metadata": {
    "execution": {
     "iopub.execute_input": "2023-04-06T01:33:42.265428Z",
     "iopub.status.busy": "2023-04-06T01:33:42.265153Z",
     "iopub.status.idle": "2023-04-06T01:33:42.269721Z",
     "shell.execute_reply": "2023-04-06T01:33:42.268772Z"
    },
    "papermill": {
     "duration": 0.014625,
     "end_time": "2023-04-06T01:33:42.271815",
     "exception": false,
     "start_time": "2023-04-06T01:33:42.257190",
     "status": "completed"
    },
    "tags": []
   },
   "outputs": [],
   "source": [
    "def encoder_block(inputs, num_filters):\n",
    "    x = conv_block(inputs, num_filters)\n",
    "    p = MaxPool2D((2, 2))(x)\n",
    "    return x, p"
   ]
  },
  {
   "cell_type": "markdown",
   "id": "c7adfada",
   "metadata": {
    "papermill": {
     "duration": 0.006694,
     "end_time": "2023-04-06T01:33:42.285382",
     "exception": false,
     "start_time": "2023-04-06T01:33:42.278688",
     "status": "completed"
    },
    "tags": []
   },
   "source": [
    "# Decoder Block"
   ]
  },
  {
   "cell_type": "code",
   "execution_count": 5,
   "id": "9d3c9a34",
   "metadata": {
    "execution": {
     "iopub.execute_input": "2023-04-06T01:33:42.301364Z",
     "iopub.status.busy": "2023-04-06T01:33:42.301080Z",
     "iopub.status.idle": "2023-04-06T01:33:42.305914Z",
     "shell.execute_reply": "2023-04-06T01:33:42.304951Z"
    },
    "papermill": {
     "duration": 0.014801,
     "end_time": "2023-04-06T01:33:42.307968",
     "exception": false,
     "start_time": "2023-04-06T01:33:42.293167",
     "status": "completed"
    },
    "tags": []
   },
   "outputs": [],
   "source": [
    "def decoder_block(inputs, skip_features, num_filters):\n",
    "    x = Conv2DTranspose(num_filters, 2, strides=2, padding=\"same\")(inputs)\n",
    "    x = Concatenate()([x, skip_features])\n",
    "    x = conv_block(x, num_filters)\n",
    "    return x"
   ]
  },
  {
   "cell_type": "markdown",
   "id": "e5248b67",
   "metadata": {
    "papermill": {
     "duration": 0.006888,
     "end_time": "2023-04-06T01:33:42.321785",
     "exception": false,
     "start_time": "2023-04-06T01:33:42.314897",
     "status": "completed"
    },
    "tags": []
   },
   "source": [
    "# Build U-Net"
   ]
  },
  {
   "cell_type": "code",
   "execution_count": 6,
   "id": "9b748d51",
   "metadata": {
    "execution": {
     "iopub.execute_input": "2023-04-06T01:33:42.337272Z",
     "iopub.status.busy": "2023-04-06T01:33:42.336891Z",
     "iopub.status.idle": "2023-04-06T01:33:45.806807Z",
     "shell.execute_reply": "2023-04-06T01:33:45.806048Z"
    },
    "papermill": {
     "duration": 3.606061,
     "end_time": "2023-04-06T01:33:45.934762",
     "exception": false,
     "start_time": "2023-04-06T01:33:42.328701",
     "status": "completed"
    },
    "tags": []
   },
   "outputs": [
    {
     "name": "stdout",
     "output_type": "stream",
     "text": [
      "Model: \"UNET\"\n",
      "__________________________________________________________________________________________________\n",
      " Layer (type)                   Output Shape         Param #     Connected to                     \n",
      "==================================================================================================\n",
      " input_1 (InputLayer)           [(None, 256, 256, 3  0           []                               \n",
      "                                )]                                                                \n",
      "                                                                                                  \n",
      " conv2d (Conv2D)                (None, 256, 256, 64  1792        ['input_1[0][0]']                \n",
      "                                )                                                                 \n",
      "                                                                                                  \n",
      " batch_normalization (BatchNorm  (None, 256, 256, 64  256        ['conv2d[0][0]']                 \n",
      " alization)                     )                                                                 \n",
      "                                                                                                  \n",
      " activation (Activation)        (None, 256, 256, 64  0           ['batch_normalization[0][0]']    \n",
      "                                )                                                                 \n",
      "                                                                                                  \n",
      " conv2d_1 (Conv2D)              (None, 256, 256, 64  36928       ['activation[0][0]']             \n",
      "                                )                                                                 \n",
      "                                                                                                  \n",
      " batch_normalization_1 (BatchNo  (None, 256, 256, 64  256        ['conv2d_1[0][0]']               \n",
      " rmalization)                   )                                                                 \n",
      "                                                                                                  \n",
      " activation_1 (Activation)      (None, 256, 256, 64  0           ['batch_normalization_1[0][0]']  \n",
      "                                )                                                                 \n",
      "                                                                                                  \n",
      " max_pooling2d (MaxPooling2D)   (None, 128, 128, 64  0           ['activation_1[0][0]']           \n",
      "                                )                                                                 \n",
      "                                                                                                  \n",
      " conv2d_2 (Conv2D)              (None, 128, 128, 12  73856       ['max_pooling2d[0][0]']          \n",
      "                                8)                                                                \n",
      "                                                                                                  \n",
      " batch_normalization_2 (BatchNo  (None, 128, 128, 12  512        ['conv2d_2[0][0]']               \n",
      " rmalization)                   8)                                                                \n",
      "                                                                                                  \n",
      " activation_2 (Activation)      (None, 128, 128, 12  0           ['batch_normalization_2[0][0]']  \n",
      "                                8)                                                                \n",
      "                                                                                                  \n",
      " conv2d_3 (Conv2D)              (None, 128, 128, 12  147584      ['activation_2[0][0]']           \n",
      "                                8)                                                                \n",
      "                                                                                                  \n",
      " batch_normalization_3 (BatchNo  (None, 128, 128, 12  512        ['conv2d_3[0][0]']               \n",
      " rmalization)                   8)                                                                \n",
      "                                                                                                  \n",
      " activation_3 (Activation)      (None, 128, 128, 12  0           ['batch_normalization_3[0][0]']  \n",
      "                                8)                                                                \n",
      "                                                                                                  \n",
      " max_pooling2d_1 (MaxPooling2D)  (None, 64, 64, 128)  0          ['activation_3[0][0]']           \n",
      "                                                                                                  \n",
      " conv2d_4 (Conv2D)              (None, 64, 64, 256)  295168      ['max_pooling2d_1[0][0]']        \n",
      "                                                                                                  \n",
      " batch_normalization_4 (BatchNo  (None, 64, 64, 256)  1024       ['conv2d_4[0][0]']               \n",
      " rmalization)                                                                                     \n",
      "                                                                                                  \n",
      " activation_4 (Activation)      (None, 64, 64, 256)  0           ['batch_normalization_4[0][0]']  \n",
      "                                                                                                  \n",
      " conv2d_5 (Conv2D)              (None, 64, 64, 256)  590080      ['activation_4[0][0]']           \n",
      "                                                                                                  \n",
      " batch_normalization_5 (BatchNo  (None, 64, 64, 256)  1024       ['conv2d_5[0][0]']               \n",
      " rmalization)                                                                                     \n",
      "                                                                                                  \n",
      " activation_5 (Activation)      (None, 64, 64, 256)  0           ['batch_normalization_5[0][0]']  \n",
      "                                                                                                  \n",
      " max_pooling2d_2 (MaxPooling2D)  (None, 32, 32, 256)  0          ['activation_5[0][0]']           \n",
      "                                                                                                  \n",
      " conv2d_6 (Conv2D)              (None, 32, 32, 512)  1180160     ['max_pooling2d_2[0][0]']        \n",
      "                                                                                                  \n",
      " batch_normalization_6 (BatchNo  (None, 32, 32, 512)  2048       ['conv2d_6[0][0]']               \n",
      " rmalization)                                                                                     \n",
      "                                                                                                  \n",
      " activation_6 (Activation)      (None, 32, 32, 512)  0           ['batch_normalization_6[0][0]']  \n",
      "                                                                                                  \n",
      " conv2d_7 (Conv2D)              (None, 32, 32, 512)  2359808     ['activation_6[0][0]']           \n",
      "                                                                                                  \n",
      " batch_normalization_7 (BatchNo  (None, 32, 32, 512)  2048       ['conv2d_7[0][0]']               \n",
      " rmalization)                                                                                     \n",
      "                                                                                                  \n",
      " activation_7 (Activation)      (None, 32, 32, 512)  0           ['batch_normalization_7[0][0]']  \n",
      "                                                                                                  \n",
      " max_pooling2d_3 (MaxPooling2D)  (None, 16, 16, 512)  0          ['activation_7[0][0]']           \n",
      "                                                                                                  \n",
      " conv2d_8 (Conv2D)              (None, 16, 16, 1024  4719616     ['max_pooling2d_3[0][0]']        \n",
      "                                )                                                                 \n",
      "                                                                                                  \n",
      " batch_normalization_8 (BatchNo  (None, 16, 16, 1024  4096       ['conv2d_8[0][0]']               \n",
      " rmalization)                   )                                                                 \n",
      "                                                                                                  \n",
      " activation_8 (Activation)      (None, 16, 16, 1024  0           ['batch_normalization_8[0][0]']  \n",
      "                                )                                                                 \n",
      "                                                                                                  \n",
      " conv2d_9 (Conv2D)              (None, 16, 16, 1024  9438208     ['activation_8[0][0]']           \n",
      "                                )                                                                 \n",
      "                                                                                                  \n",
      " batch_normalization_9 (BatchNo  (None, 16, 16, 1024  4096       ['conv2d_9[0][0]']               \n",
      " rmalization)                   )                                                                 \n",
      "                                                                                                  \n",
      " activation_9 (Activation)      (None, 16, 16, 1024  0           ['batch_normalization_9[0][0]']  \n",
      "                                )                                                                 \n",
      "                                                                                                  \n",
      " conv2d_transpose (Conv2DTransp  (None, 32, 32, 512)  2097664    ['activation_9[0][0]']           \n",
      " ose)                                                                                             \n",
      "                                                                                                  \n",
      " concatenate (Concatenate)      (None, 32, 32, 1024  0           ['conv2d_transpose[0][0]',       \n",
      "                                )                                 'activation_7[0][0]']           \n",
      "                                                                                                  \n",
      " conv2d_10 (Conv2D)             (None, 32, 32, 512)  4719104     ['concatenate[0][0]']            \n",
      "                                                                                                  \n",
      " batch_normalization_10 (BatchN  (None, 32, 32, 512)  2048       ['conv2d_10[0][0]']              \n",
      " ormalization)                                                                                    \n",
      "                                                                                                  \n",
      " activation_10 (Activation)     (None, 32, 32, 512)  0           ['batch_normalization_10[0][0]'] \n",
      "                                                                                                  \n",
      " conv2d_11 (Conv2D)             (None, 32, 32, 512)  2359808     ['activation_10[0][0]']          \n",
      "                                                                                                  \n",
      " batch_normalization_11 (BatchN  (None, 32, 32, 512)  2048       ['conv2d_11[0][0]']              \n",
      " ormalization)                                                                                    \n",
      "                                                                                                  \n",
      " activation_11 (Activation)     (None, 32, 32, 512)  0           ['batch_normalization_11[0][0]'] \n",
      "                                                                                                  \n",
      " conv2d_transpose_1 (Conv2DTran  (None, 64, 64, 256)  524544     ['activation_11[0][0]']          \n",
      " spose)                                                                                           \n",
      "                                                                                                  \n",
      " concatenate_1 (Concatenate)    (None, 64, 64, 512)  0           ['conv2d_transpose_1[0][0]',     \n",
      "                                                                  'activation_5[0][0]']           \n",
      "                                                                                                  \n",
      " conv2d_12 (Conv2D)             (None, 64, 64, 256)  1179904     ['concatenate_1[0][0]']          \n",
      "                                                                                                  \n",
      " batch_normalization_12 (BatchN  (None, 64, 64, 256)  1024       ['conv2d_12[0][0]']              \n",
      " ormalization)                                                                                    \n",
      "                                                                                                  \n",
      " activation_12 (Activation)     (None, 64, 64, 256)  0           ['batch_normalization_12[0][0]'] \n",
      "                                                                                                  \n",
      " conv2d_13 (Conv2D)             (None, 64, 64, 256)  590080      ['activation_12[0][0]']          \n",
      "                                                                                                  \n",
      " batch_normalization_13 (BatchN  (None, 64, 64, 256)  1024       ['conv2d_13[0][0]']              \n",
      " ormalization)                                                                                    \n",
      "                                                                                                  \n",
      " activation_13 (Activation)     (None, 64, 64, 256)  0           ['batch_normalization_13[0][0]'] \n",
      "                                                                                                  \n",
      " conv2d_transpose_2 (Conv2DTran  (None, 128, 128, 12  131200     ['activation_13[0][0]']          \n",
      " spose)                         8)                                                                \n",
      "                                                                                                  \n",
      " concatenate_2 (Concatenate)    (None, 128, 128, 25  0           ['conv2d_transpose_2[0][0]',     \n",
      "                                6)                                'activation_3[0][0]']           \n",
      "                                                                                                  \n",
      " conv2d_14 (Conv2D)             (None, 128, 128, 12  295040      ['concatenate_2[0][0]']          \n",
      "                                8)                                                                \n",
      "                                                                                                  \n",
      " batch_normalization_14 (BatchN  (None, 128, 128, 12  512        ['conv2d_14[0][0]']              \n",
      " ormalization)                  8)                                                                \n",
      "                                                                                                  \n",
      " activation_14 (Activation)     (None, 128, 128, 12  0           ['batch_normalization_14[0][0]'] \n",
      "                                8)                                                                \n",
      "                                                                                                  \n",
      " conv2d_15 (Conv2D)             (None, 128, 128, 12  147584      ['activation_14[0][0]']          \n",
      "                                8)                                                                \n",
      "                                                                                                  \n",
      " batch_normalization_15 (BatchN  (None, 128, 128, 12  512        ['conv2d_15[0][0]']              \n",
      " ormalization)                  8)                                                                \n",
      "                                                                                                  \n",
      " activation_15 (Activation)     (None, 128, 128, 12  0           ['batch_normalization_15[0][0]'] \n",
      "                                8)                                                                \n",
      "                                                                                                  \n",
      " conv2d_transpose_3 (Conv2DTran  (None, 256, 256, 64  32832      ['activation_15[0][0]']          \n",
      " spose)                         )                                                                 \n",
      "                                                                                                  \n",
      " concatenate_3 (Concatenate)    (None, 256, 256, 12  0           ['conv2d_transpose_3[0][0]',     \n",
      "                                8)                                'activation_1[0][0]']           \n",
      "                                                                                                  \n",
      " conv2d_16 (Conv2D)             (None, 256, 256, 64  73792       ['concatenate_3[0][0]']          \n",
      "                                )                                                                 \n",
      "                                                                                                  \n",
      " batch_normalization_16 (BatchN  (None, 256, 256, 64  256        ['conv2d_16[0][0]']              \n",
      " ormalization)                  )                                                                 \n",
      "                                                                                                  \n",
      " activation_16 (Activation)     (None, 256, 256, 64  0           ['batch_normalization_16[0][0]'] \n",
      "                                )                                                                 \n",
      "                                                                                                  \n",
      " conv2d_17 (Conv2D)             (None, 256, 256, 64  36928       ['activation_16[0][0]']          \n",
      "                                )                                                                 \n",
      "                                                                                                  \n",
      " batch_normalization_17 (BatchN  (None, 256, 256, 64  256        ['conv2d_17[0][0]']              \n",
      " ormalization)                  )                                                                 \n",
      "                                                                                                  \n",
      " activation_17 (Activation)     (None, 256, 256, 64  0           ['batch_normalization_17[0][0]'] \n",
      "                                )                                                                 \n",
      "                                                                                                  \n",
      " conv2d_18 (Conv2D)             (None, 256, 256, 1)  65          ['activation_17[0][0]']          \n",
      "                                                                                                  \n",
      "==================================================================================================\n",
      "Total params: 31,055,297\n",
      "Trainable params: 31,043,521\n",
      "Non-trainable params: 11,776\n",
      "__________________________________________________________________________________________________\n"
     ]
    }
   ],
   "source": [
    "def unet(input_shape):\n",
    "    inputs = Input(input_shape)\n",
    "\n",
    "    s1, p1 = encoder_block(inputs, 64)\n",
    "    s2, p2 = encoder_block(p1, 128)\n",
    "    s3, p3 = encoder_block(p2, 256)\n",
    "    s4, p4 = encoder_block(p3, 512)\n",
    "\n",
    "    b1 = conv_block(p4, 1024)\n",
    "\n",
    "    d1 = decoder_block(b1, s4, 512)\n",
    "    d2 = decoder_block(d1, s3, 256)\n",
    "    d3 = decoder_block(d2, s2, 128)\n",
    "    d4 = decoder_block(d3, s1, 64)\n",
    "\n",
    "    outputs = Conv2D(1, 1, padding=\"same\", activation=\"sigmoid\")(d4)\n",
    "\n",
    "    model = Model(inputs, outputs, name=\"UNET\")\n",
    "    return model\n",
    "\n",
    "model = unet((256,256,3))\n",
    "model.summary()"
   ]
  },
  {
   "cell_type": "markdown",
   "id": "31b7f698",
   "metadata": {
    "papermill": {
     "duration": 0.017168,
     "end_time": "2023-04-06T01:33:45.969991",
     "exception": false,
     "start_time": "2023-04-06T01:33:45.952823",
     "status": "completed"
    },
    "tags": []
   },
   "source": [
    "# Dice Loss"
   ]
  },
  {
   "cell_type": "code",
   "execution_count": 7,
   "id": "9ee98ad2",
   "metadata": {
    "execution": {
     "iopub.execute_input": "2023-04-06T01:33:46.006539Z",
     "iopub.status.busy": "2023-04-06T01:33:46.005929Z",
     "iopub.status.idle": "2023-04-06T01:33:46.012512Z",
     "shell.execute_reply": "2023-04-06T01:33:46.011463Z"
    },
    "papermill": {
     "duration": 0.027101,
     "end_time": "2023-04-06T01:33:46.014560",
     "exception": false,
     "start_time": "2023-04-06T01:33:45.987459",
     "status": "completed"
    },
    "tags": []
   },
   "outputs": [],
   "source": [
    "smooth = 1e-15\n",
    "def dice_coef(y_true, y_pred):\n",
    "    y_true = tf.keras.layers.Flatten()(y_true)\n",
    "    y_pred = tf.keras.layers.Flatten()(y_pred)\n",
    "    intersection = tf.reduce_sum(y_true * y_pred)\n",
    "    return (2. * intersection + smooth) / (tf.reduce_sum(y_true) + tf.reduce_sum(y_pred) + smooth)\n",
    "\n",
    "def dice_loss(y_true, y_pred):\n",
    "    return 1.0 - dice_coef(y_true, y_pred)"
   ]
  },
  {
   "cell_type": "markdown",
   "id": "cde3aeec",
   "metadata": {
    "papermill": {
     "duration": 0.016528,
     "end_time": "2023-04-06T01:33:46.047813",
     "exception": false,
     "start_time": "2023-04-06T01:33:46.031285",
     "status": "completed"
    },
    "tags": []
   },
   "source": [
    "# Train the model"
   ]
  },
  {
   "cell_type": "code",
   "execution_count": 8,
   "id": "351b703d",
   "metadata": {
    "execution": {
     "iopub.execute_input": "2023-04-06T01:33:46.082688Z",
     "iopub.status.busy": "2023-04-06T01:33:46.082343Z",
     "iopub.status.idle": "2023-04-06T01:33:46.087949Z",
     "shell.execute_reply": "2023-04-06T01:33:46.086950Z"
    },
    "papermill": {
     "duration": 0.02564,
     "end_time": "2023-04-06T01:33:46.090137",
     "exception": false,
     "start_time": "2023-04-06T01:33:46.064497",
     "status": "completed"
    },
    "tags": []
   },
   "outputs": [],
   "source": [
    "H = 256\n",
    "W = 256\n",
    "\n",
    "def create_dir(path):\n",
    "    if not os.path.exists(path):\n",
    "        os.makedirs(path)\n",
    "create_dir(\"files\")"
   ]
  },
  {
   "cell_type": "code",
   "execution_count": 9,
   "id": "fbaeeb2c",
   "metadata": {
    "execution": {
     "iopub.execute_input": "2023-04-06T01:33:46.126117Z",
     "iopub.status.busy": "2023-04-06T01:33:46.124918Z",
     "iopub.status.idle": "2023-04-06T01:33:46.133113Z",
     "shell.execute_reply": "2023-04-06T01:33:46.132176Z"
    },
    "papermill": {
     "duration": 0.02864,
     "end_time": "2023-04-06T01:33:46.135350",
     "exception": false,
     "start_time": "2023-04-06T01:33:46.106710",
     "status": "completed"
    },
    "tags": []
   },
   "outputs": [],
   "source": [
    "def load_dataset(path, split=0.2):\n",
    "    images = sorted(glob(os.path.join(path, \"images\", \"*.png\")))\n",
    "    masks = sorted(glob(os.path.join(path, \"masks\", \"*.png\")))\n",
    "\n",
    "    split_size = int(len(images) * split)\n",
    "\n",
    "    train_x, valid_x = train_test_split(images, test_size=split_size, random_state=42)\n",
    "    train_y, valid_y = train_test_split(masks, test_size=split_size, random_state=42)\n",
    " \n",
    "    train_x, test_x = train_test_split(train_x, test_size=split_size, random_state=42)\n",
    "    train_y, test_y = train_test_split(train_y, test_size=split_size, random_state=42)\n",
    "\n",
    "    return (train_x, train_y), (valid_x, valid_y), (test_x, test_y)"
   ]
  },
  {
   "cell_type": "code",
   "execution_count": 10,
   "id": "926ee6b9",
   "metadata": {
    "execution": {
     "iopub.execute_input": "2023-04-06T01:33:46.170185Z",
     "iopub.status.busy": "2023-04-06T01:33:46.169837Z",
     "iopub.status.idle": "2023-04-06T01:33:46.176677Z",
     "shell.execute_reply": "2023-04-06T01:33:46.175697Z"
    },
    "papermill": {
     "duration": 0.026804,
     "end_time": "2023-04-06T01:33:46.178835",
     "exception": false,
     "start_time": "2023-04-06T01:33:46.152031",
     "status": "completed"
    },
    "tags": []
   },
   "outputs": [],
   "source": [
    "def read_image(path):\n",
    "    path = path.decode()\n",
    "    x = cv2.imread(path, cv2.IMREAD_COLOR)\n",
    "    x = cv2.resize(x, (W, H))\n",
    "    x = x / 255.0\n",
    "    x = x.astype(np.float32)\n",
    "    return x\n",
    "\n",
    "def read_mask(path):\n",
    "    path = path.decode()\n",
    "    x = cv2.imread(path, cv2.IMREAD_GRAYSCALE)  ## (h, w)\n",
    "    x = cv2.resize(x, (W, H))   ## (h, w)\n",
    "    x = x / 255.0               ## (h, w)\n",
    "    x = x.astype(np.float32)    ## (h, w)\n",
    "    x = np.expand_dims(x, axis=-1)## (h, w, 1)\n",
    "    return x"
   ]
  },
  {
   "cell_type": "code",
   "execution_count": 11,
   "id": "5a790b38",
   "metadata": {
    "execution": {
     "iopub.execute_input": "2023-04-06T01:33:46.214422Z",
     "iopub.status.busy": "2023-04-06T01:33:46.213838Z",
     "iopub.status.idle": "2023-04-06T01:33:46.220946Z",
     "shell.execute_reply": "2023-04-06T01:33:46.219844Z"
    },
    "papermill": {
     "duration": 0.028031,
     "end_time": "2023-04-06T01:33:46.223544",
     "exception": false,
     "start_time": "2023-04-06T01:33:46.195513",
     "status": "completed"
    },
    "tags": []
   },
   "outputs": [],
   "source": [
    "def tf_parse(x, y):\n",
    "    def _parse(x, y):\n",
    "        x = read_image(x)\n",
    "        y = read_mask(y)\n",
    "        return x, y\n",
    "\n",
    "    x, y = tf.numpy_function(_parse, [x, y], [tf.float32, tf.float32])\n",
    "    x.set_shape([H, W, 3])\n",
    "    y.set_shape([H, W, 1])\n",
    "    return x, y\n",
    "\n",
    "def tf_dataset(X, Y, batch=2):\n",
    "    dataset = tf.data.Dataset.from_tensor_slices((X, Y))\n",
    "    dataset = dataset.map(tf_parse)\n",
    "    dataset = dataset.batch(batch)\n",
    "    dataset = dataset.prefetch(10)\n",
    "    return dataset"
   ]
  },
  {
   "cell_type": "code",
   "execution_count": 12,
   "id": "d11e6b7a",
   "metadata": {
    "execution": {
     "iopub.execute_input": "2023-04-06T01:33:46.258672Z",
     "iopub.status.busy": "2023-04-06T01:33:46.258343Z",
     "iopub.status.idle": "2023-04-06T01:33:46.263602Z",
     "shell.execute_reply": "2023-04-06T01:33:46.262483Z"
    },
    "papermill": {
     "duration": 0.025418,
     "end_time": "2023-04-06T01:33:46.266160",
     "exception": false,
     "start_time": "2023-04-06T01:33:46.240742",
     "status": "completed"
    },
    "tags": []
   },
   "outputs": [],
   "source": [
    "batch_size = 16\n",
    "lr = 1e-4\n",
    "num_epochs = 300\n",
    "model_path = os.path.join(\"files\", \"model.h5\")\n",
    "csv_path = os.path.join(\"files\", \"log.csv\")\n",
    "dataset_path=\"/kaggle/input/brain-tumor-segmentation\""
   ]
  },
  {
   "cell_type": "code",
   "execution_count": 13,
   "id": "07638ada",
   "metadata": {
    "execution": {
     "iopub.execute_input": "2023-04-06T01:33:46.301755Z",
     "iopub.status.busy": "2023-04-06T01:33:46.300831Z",
     "iopub.status.idle": "2023-04-06T01:33:47.247827Z",
     "shell.execute_reply": "2023-04-06T01:33:47.245843Z"
    },
    "papermill": {
     "duration": 0.966941,
     "end_time": "2023-04-06T01:33:47.250170",
     "exception": false,
     "start_time": "2023-04-06T01:33:46.283229",
     "status": "completed"
    },
    "tags": []
   },
   "outputs": [
    {
     "name": "stdout",
     "output_type": "stream",
     "text": [
      "Train: (1840,1840)\n",
      "Valid: (612,612)\n",
      "Test: (612,612)\n"
     ]
    }
   ],
   "source": [
    "(train_x, train_y), (valid_x, valid_y), (test_x, test_y) = load_dataset(dataset_path)\n",
    "\n",
    "print(f\"Train: ({len(train_x)},{len(train_y)})\")\n",
    "print(f\"Valid: ({len(valid_x)},{len(valid_x)})\")\n",
    "print(f\"Test: ({len(test_x)},{len(test_x)})\")"
   ]
  },
  {
   "cell_type": "code",
   "execution_count": 14,
   "id": "5a104125",
   "metadata": {
    "execution": {
     "iopub.execute_input": "2023-04-06T01:33:47.287114Z",
     "iopub.status.busy": "2023-04-06T01:33:47.286768Z",
     "iopub.status.idle": "2023-04-06T01:33:47.418524Z",
     "shell.execute_reply": "2023-04-06T01:33:47.417444Z"
    },
    "papermill": {
     "duration": 0.153363,
     "end_time": "2023-04-06T01:33:47.421347",
     "exception": false,
     "start_time": "2023-04-06T01:33:47.267984",
     "status": "completed"
    },
    "tags": []
   },
   "outputs": [],
   "source": [
    "train_dataset = tf_dataset(train_x, train_y, batch=batch_size)\n",
    "valid_dataset = tf_dataset(valid_x, valid_y, batch=batch_size)"
   ]
  },
  {
   "cell_type": "code",
   "execution_count": 15,
   "id": "609239f1",
   "metadata": {
    "execution": {
     "iopub.execute_input": "2023-04-06T01:33:47.457411Z",
     "iopub.status.busy": "2023-04-06T01:33:47.456852Z",
     "iopub.status.idle": "2023-04-06T01:33:47.924433Z",
     "shell.execute_reply": "2023-04-06T01:33:47.923376Z"
    },
    "papermill": {
     "duration": 0.48852,
     "end_time": "2023-04-06T01:33:47.926998",
     "exception": false,
     "start_time": "2023-04-06T01:33:47.438478",
     "status": "completed"
    },
    "tags": []
   },
   "outputs": [],
   "source": [
    "model = unet((H, W, 3))\n",
    "model.compile(loss=dice_loss, optimizer=Adam(lr), metrics=[dice_coef,'accuracy'])"
   ]
  },
  {
   "cell_type": "code",
   "execution_count": 16,
   "id": "ab13174f",
   "metadata": {
    "execution": {
     "iopub.execute_input": "2023-04-06T01:33:47.962968Z",
     "iopub.status.busy": "2023-04-06T01:33:47.961902Z",
     "iopub.status.idle": "2023-04-06T01:33:47.968029Z",
     "shell.execute_reply": "2023-04-06T01:33:47.967127Z"
    },
    "papermill": {
     "duration": 0.026281,
     "end_time": "2023-04-06T01:33:47.970152",
     "exception": false,
     "start_time": "2023-04-06T01:33:47.943871",
     "status": "completed"
    },
    "tags": []
   },
   "outputs": [],
   "source": [
    "callbacks = [\n",
    "        ModelCheckpoint(model_path, verbose=1, save_best_only=True),\n",
    "        ReduceLROnPlateau(monitor='val_loss', factor=0.1, patience=5, min_lr=1e-7, verbose=1),\n",
    "        CSVLogger(csv_path),\n",
    "        EarlyStopping(monitor='val_loss', patience=20, restore_best_weights=False),\n",
    "    ]"
   ]
  },
  {
   "cell_type": "code",
   "execution_count": 17,
   "id": "b1a57bcd",
   "metadata": {
    "execution": {
     "iopub.execute_input": "2023-04-06T01:33:48.006026Z",
     "iopub.status.busy": "2023-04-06T01:33:48.004285Z",
     "iopub.status.idle": "2023-04-06T02:32:37.539752Z",
     "shell.execute_reply": "2023-04-06T02:32:37.538739Z"
    },
    "papermill": {
     "duration": 3529.57207,
     "end_time": "2023-04-06T02:32:37.558743",
     "exception": false,
     "start_time": "2023-04-06T01:33:47.986673",
     "status": "completed"
    },
    "tags": []
   },
   "outputs": [
    {
     "name": "stdout",
     "output_type": "stream",
     "text": [
      "\n",
      "Epoch 1: val_loss improved from inf to 0.97252, saving model to files/model.h5\n",
      "\n",
      "Epoch 2: val_loss did not improve from 0.97252\n",
      "\n",
      "Epoch 3: val_loss did not improve from 0.97252\n",
      "\n",
      "Epoch 4: val_loss improved from 0.97252 to 0.83941, saving model to files/model.h5\n",
      "\n",
      "Epoch 5: val_loss improved from 0.83941 to 0.51640, saving model to files/model.h5\n",
      "\n",
      "Epoch 6: val_loss improved from 0.51640 to 0.47368, saving model to files/model.h5\n",
      "\n",
      "Epoch 7: val_loss improved from 0.47368 to 0.38831, saving model to files/model.h5\n",
      "\n",
      "Epoch 8: val_loss improved from 0.38831 to 0.31135, saving model to files/model.h5\n",
      "\n",
      "Epoch 9: val_loss did not improve from 0.31135\n",
      "\n",
      "Epoch 10: val_loss improved from 0.31135 to 0.31092, saving model to files/model.h5\n",
      "\n",
      "Epoch 11: val_loss did not improve from 0.31092\n",
      "\n",
      "Epoch 12: val_loss improved from 0.31092 to 0.28617, saving model to files/model.h5\n",
      "\n",
      "Epoch 13: val_loss did not improve from 0.28617\n",
      "\n",
      "Epoch 14: val_loss improved from 0.28617 to 0.27595, saving model to files/model.h5\n",
      "\n",
      "Epoch 15: val_loss improved from 0.27595 to 0.24812, saving model to files/model.h5\n",
      "\n",
      "Epoch 16: val_loss did not improve from 0.24812\n",
      "\n",
      "Epoch 17: val_loss improved from 0.24812 to 0.23090, saving model to files/model.h5\n",
      "\n",
      "Epoch 18: val_loss did not improve from 0.23090\n",
      "\n",
      "Epoch 19: val_loss did not improve from 0.23090\n",
      "\n",
      "Epoch 20: val_loss improved from 0.23090 to 0.22508, saving model to files/model.h5\n",
      "\n",
      "Epoch 21: val_loss did not improve from 0.22508\n",
      "\n",
      "Epoch 22: val_loss improved from 0.22508 to 0.21554, saving model to files/model.h5\n",
      "\n",
      "Epoch 23: val_loss improved from 0.21554 to 0.20968, saving model to files/model.h5\n",
      "\n",
      "Epoch 24: val_loss did not improve from 0.20968\n",
      "\n",
      "Epoch 25: val_loss improved from 0.20968 to 0.20676, saving model to files/model.h5\n",
      "\n",
      "Epoch 26: val_loss improved from 0.20676 to 0.18864, saving model to files/model.h5\n",
      "\n",
      "Epoch 27: val_loss did not improve from 0.18864\n",
      "\n",
      "Epoch 28: val_loss did not improve from 0.18864\n",
      "\n",
      "Epoch 29: val_loss did not improve from 0.18864\n",
      "\n",
      "Epoch 30: val_loss did not improve from 0.18864\n",
      "\n",
      "Epoch 31: val_loss did not improve from 0.18864\n",
      "\n",
      "Epoch 31: ReduceLROnPlateau reducing learning rate to 9.999999747378752e-06.\n",
      "\n",
      "Epoch 32: val_loss improved from 0.18864 to 0.17886, saving model to files/model.h5\n",
      "\n",
      "Epoch 33: val_loss improved from 0.17886 to 0.17767, saving model to files/model.h5\n",
      "\n",
      "Epoch 34: val_loss did not improve from 0.17767\n",
      "\n",
      "Epoch 35: val_loss did not improve from 0.17767\n",
      "\n",
      "Epoch 36: val_loss did not improve from 0.17767\n",
      "\n",
      "Epoch 37: val_loss did not improve from 0.17767\n",
      "\n",
      "Epoch 38: val_loss did not improve from 0.17767\n",
      "\n",
      "Epoch 38: ReduceLROnPlateau reducing learning rate to 9.999999747378752e-07.\n",
      "\n",
      "Epoch 39: val_loss did not improve from 0.17767\n",
      "\n",
      "Epoch 40: val_loss did not improve from 0.17767\n",
      "\n",
      "Epoch 41: val_loss did not improve from 0.17767\n",
      "\n",
      "Epoch 42: val_loss did not improve from 0.17767\n",
      "\n",
      "Epoch 43: val_loss did not improve from 0.17767\n",
      "\n",
      "Epoch 43: ReduceLROnPlateau reducing learning rate to 1e-07.\n",
      "\n",
      "Epoch 44: val_loss did not improve from 0.17767\n",
      "\n",
      "Epoch 45: val_loss did not improve from 0.17767\n",
      "\n",
      "Epoch 46: val_loss did not improve from 0.17767\n",
      "\n",
      "Epoch 47: val_loss did not improve from 0.17767\n",
      "\n",
      "Epoch 48: val_loss did not improve from 0.17767\n",
      "\n",
      "Epoch 49: val_loss did not improve from 0.17767\n",
      "\n",
      "Epoch 50: val_loss did not improve from 0.17767\n",
      "\n",
      "Epoch 51: val_loss did not improve from 0.17767\n",
      "\n",
      "Epoch 52: val_loss did not improve from 0.17767\n",
      "\n",
      "Epoch 53: val_loss did not improve from 0.17767\n"
     ]
    },
    {
     "data": {
      "text/plain": [
       "<keras.callbacks.History at 0x72693179efd0>"
      ]
     },
     "execution_count": 17,
     "metadata": {},
     "output_type": "execute_result"
    }
   ],
   "source": [
    "model.fit(\n",
    "        train_dataset,\n",
    "        epochs=num_epochs,\n",
    "        validation_data=valid_dataset,\n",
    "        callbacks=callbacks,\n",
    "        verbose=0,\n",
    "    )"
   ]
  },
  {
   "cell_type": "markdown",
   "id": "a232b3f6",
   "metadata": {
    "papermill": {
     "duration": 0.020503,
     "end_time": "2023-04-06T02:32:37.599904",
     "exception": false,
     "start_time": "2023-04-06T02:32:37.579401",
     "status": "completed"
    },
    "tags": []
   },
   "source": [
    "## Learnig curves"
   ]
  },
  {
   "cell_type": "code",
   "execution_count": 18,
   "id": "1ddb7f3d",
   "metadata": {
    "execution": {
     "iopub.execute_input": "2023-04-06T02:32:37.641774Z",
     "iopub.status.busy": "2023-04-06T02:32:37.641406Z",
     "iopub.status.idle": "2023-04-06T02:33:09.164024Z",
     "shell.execute_reply": "2023-04-06T02:33:09.162929Z"
    },
    "papermill": {
     "duration": 31.563845,
     "end_time": "2023-04-06T02:33:09.183757",
     "exception": false,
     "start_time": "2023-04-06T02:32:37.619912",
     "status": "completed"
    },
    "tags": []
   },
   "outputs": [
    {
     "data": {
      "text/html": [
       "<div>\n",
       "<style scoped>\n",
       "    .dataframe tbody tr th:only-of-type {\n",
       "        vertical-align: middle;\n",
       "    }\n",
       "\n",
       "    .dataframe tbody tr th {\n",
       "        vertical-align: top;\n",
       "    }\n",
       "\n",
       "    .dataframe thead th {\n",
       "        text-align: right;\n",
       "    }\n",
       "</style>\n",
       "<table border=\"1\" class=\"dataframe\">\n",
       "  <thead>\n",
       "    <tr style=\"text-align: right;\">\n",
       "      <th></th>\n",
       "      <th>epoch</th>\n",
       "      <th>accuracy</th>\n",
       "      <th>dice_coef</th>\n",
       "      <th>loss</th>\n",
       "      <th>lr</th>\n",
       "      <th>val_accuracy</th>\n",
       "      <th>val_dice_coef</th>\n",
       "      <th>val_loss</th>\n",
       "    </tr>\n",
       "  </thead>\n",
       "  <tbody>\n",
       "    <tr>\n",
       "      <th>0</th>\n",
       "      <td>0</td>\n",
       "      <td>0.879316</td>\n",
       "      <td>0.161147</td>\n",
       "      <td>0.838853</td>\n",
       "      <td>0.0001</td>\n",
       "      <td>0.982257</td>\n",
       "      <td>0.027428</td>\n",
       "      <td>0.972522</td>\n",
       "    </tr>\n",
       "    <tr>\n",
       "      <th>1</th>\n",
       "      <td>1</td>\n",
       "      <td>0.977732</td>\n",
       "      <td>0.313653</td>\n",
       "      <td>0.686347</td>\n",
       "      <td>0.0001</td>\n",
       "      <td>0.935576</td>\n",
       "      <td>0.015334</td>\n",
       "      <td>0.984633</td>\n",
       "    </tr>\n",
       "  </tbody>\n",
       "</table>\n",
       "</div>"
      ],
      "text/plain": [
       "   epoch  accuracy  dice_coef      loss      lr  val_accuracy  val_dice_coef  \\\n",
       "0      0  0.879316   0.161147  0.838853  0.0001      0.982257       0.027428   \n",
       "1      1  0.977732   0.313653  0.686347  0.0001      0.935576       0.015334   \n",
       "\n",
       "   val_loss  \n",
       "0  0.972522  \n",
       "1  0.984633  "
      ]
     },
     "execution_count": 18,
     "metadata": {},
     "output_type": "execute_result"
    }
   ],
   "source": [
    "import pandas as pd\n",
    "metrics = pd.read_csv(\"/kaggle/working/files/log.csv\")\n",
    "metrics.head(2)"
   ]
  },
  {
   "cell_type": "markdown",
   "id": "63dfddb8",
   "metadata": {
    "papermill": {
     "duration": 0.019962,
     "end_time": "2023-04-06T02:33:09.223717",
     "exception": false,
     "start_time": "2023-04-06T02:33:09.203755",
     "status": "completed"
    },
    "tags": []
   },
   "source": [
    "# Dice_coef"
   ]
  },
  {
   "cell_type": "code",
   "execution_count": 19,
   "id": "0c1b8b51",
   "metadata": {
    "execution": {
     "iopub.execute_input": "2023-04-06T02:33:09.265413Z",
     "iopub.status.busy": "2023-04-06T02:33:09.264400Z",
     "iopub.status.idle": "2023-04-06T02:33:09.536847Z",
     "shell.execute_reply": "2023-04-06T02:33:09.535901Z"
    },
    "papermill": {
     "duration": 0.295791,
     "end_time": "2023-04-06T02:33:09.539157",
     "exception": false,
     "start_time": "2023-04-06T02:33:09.243366",
     "status": "completed"
    },
    "tags": []
   },
   "outputs": [
    {
     "data": {
      "text/plain": [
       "<AxesSubplot:>"
      ]
     },
     "execution_count": 19,
     "metadata": {},
     "output_type": "execute_result"
    },
    {
     "data": {
      "image/png": "[encoded data removed]",
      "text/plain": [
       "<Figure size 640x480 with 1 Axes>"
      ]
     },
     "metadata": {},
     "output_type": "display_data"
    }
   ],
   "source": [
    "metrics[['dice_coef','val_dice_coef']].plot()"
   ]
  },
  {
   "cell_type": "code",
   "execution_count": 20,
   "id": "c21e4bf1",
   "metadata": {
    "execution": {
     "iopub.execute_input": "2023-04-06T02:33:09.583388Z",
     "iopub.status.busy": "2023-04-06T02:33:09.582320Z",
     "iopub.status.idle": "2023-04-06T02:33:09.836879Z",
     "shell.execute_reply": "2023-04-06T02:33:09.834088Z"
    },
    "papermill": {
     "duration": 0.282109,
     "end_time": "2023-04-06T02:33:09.841799",
     "exception": false,
     "start_time": "2023-04-06T02:33:09.559690",
     "status": "completed"
    },
    "tags": []
   },
   "outputs": [
    {
     "data": {
      "text/plain": [
       "<AxesSubplot:>"
      ]
     },
     "execution_count": 20,
     "metadata": {},
     "output_type": "execute_result"
    },
    {
     "data": {
      "image/png": "[encoded data removed]",
      "text/plain": [
       "<Figure size 640x480 with 1 Axes>"
      ]
     },
     "metadata": {},
     "output_type": "display_data"
    }
   ],
   "source": [
    "metrics[['accuracy','val_accuracy']].plot()"
   ]
  },
  {
   "cell_type": "code",
   "execution_count": 21,
   "id": "87044ca7",
   "metadata": {
    "execution": {
     "iopub.execute_input": "2023-04-06T02:33:09.889678Z",
     "iopub.status.busy": "2023-04-06T02:33:09.889327Z",
     "iopub.status.idle": "2023-04-06T02:33:10.117632Z",
     "shell.execute_reply": "2023-04-06T02:33:10.116645Z"
    },
    "papermill": {
     "duration": 0.253238,
     "end_time": "2023-04-06T02:33:10.119889",
     "exception": false,
     "start_time": "2023-04-06T02:33:09.866651",
     "status": "completed"
    },
    "tags": []
   },
   "outputs": [
    {
     "data": {
      "text/plain": [
       "<AxesSubplot:>"
      ]
     },
     "execution_count": 21,
     "metadata": {},
     "output_type": "execute_result"
    },
    {
     "data": {
      "image/png": "[encoded data removed]",
      "text/plain": [
       "<Figure size 640x480 with 1 Axes>"
      ]
     },
     "metadata": {},
     "output_type": "display_data"
    }
   ],
   "source": [
    "metrics[['loss','val_loss']].plot()"
   ]
  },
  {
   "cell_type": "markdown",
   "id": "cb81c5fe",
   "metadata": {
    "papermill": {
     "duration": 0.021277,
     "end_time": "2023-04-06T02:33:10.163328",
     "exception": false,
     "start_time": "2023-04-06T02:33:10.142051",
     "status": "completed"
    },
    "tags": []
   },
   "source": [
    "# Evaluate the model"
   ]
  },
  {
   "cell_type": "code",
   "execution_count": 22,
   "id": "cded3936",
   "metadata": {
    "execution": {
     "iopub.execute_input": "2023-04-06T02:33:10.208743Z",
     "iopub.status.busy": "2023-04-06T02:33:10.207720Z",
     "iopub.status.idle": "2023-04-06T02:33:10.213835Z",
     "shell.execute_reply": "2023-04-06T02:33:10.212897Z"
    },
    "papermill": {
     "duration": 0.030871,
     "end_time": "2023-04-06T02:33:10.215929",
     "exception": false,
     "start_time": "2023-04-06T02:33:10.185058",
     "status": "completed"
    },
    "tags": []
   },
   "outputs": [],
   "source": [
    "create_dir(\"results\")\n",
    "\n",
    "# with CustomObjectScope({\"dice_coef\": dice_coef, \"dice_loss\": dice_loss}):\n",
    "#     model = tf.keras.models.load_model(os.path.join(\"files\", \"model.h5\"))"
   ]
  },
  {
   "cell_type": "code",
   "execution_count": 23,
   "id": "a43ccdd1",
   "metadata": {
    "execution": {
     "iopub.execute_input": "2023-04-06T02:33:10.261118Z",
     "iopub.status.busy": "2023-04-06T02:33:10.260707Z",
     "iopub.status.idle": "2023-04-06T02:33:10.267572Z",
     "shell.execute_reply": "2023-04-06T02:33:10.266456Z"
    },
    "papermill": {
     "duration": 0.032218,
     "end_time": "2023-04-06T02:33:10.270308",
     "exception": false,
     "start_time": "2023-04-06T02:33:10.238090",
     "status": "completed"
    },
    "tags": []
   },
   "outputs": [],
   "source": [
    "from tqdm import tqdm\n",
    "def save_results(image, mask, y_pred, save_image_path):\n",
    "    mask = np.expand_dims(mask, axis=-1)\n",
    "    mask = np.concatenate([mask, mask, mask], axis=-1)\n",
    "\n",
    "    y_pred = np.expand_dims(y_pred, axis=-1)\n",
    "    y_pred = np.concatenate([y_pred, y_pred, y_pred], axis=-1)\n",
    "    y_pred = y_pred * 255\n",
    "\n",
    "    line = np.ones((H, 10, 3)) * 255\n",
    "\n",
    "    cat_images = np.concatenate([image, line, mask, line, y_pred], axis=1)\n",
    "    cv2.imwrite(save_image_path, cat_images)"
   ]
  },
  {
   "cell_type": "code",
   "execution_count": 24,
   "id": "bbca6c45",
   "metadata": {
    "execution": {
     "iopub.execute_input": "2023-04-06T02:33:10.317207Z",
     "iopub.status.busy": "2023-04-06T02:33:10.315069Z",
     "iopub.status.idle": "2023-04-06T02:34:43.876153Z",
     "shell.execute_reply": "2023-04-06T02:34:43.874836Z"
    },
    "papermill": {
     "duration": 93.587629,
     "end_time": "2023-04-06T02:34:43.879274",
     "exception": false,
     "start_time": "2023-04-06T02:33:10.291645",
     "status": "completed"
    },
    "tags": []
   },
   "outputs": [
    {
     "name": "stderr",
     "output_type": "stream",
     "text": [
      "100%|██████████| 612/612 [01:33<00:00,  6.54it/s]"
     ]
    },
    {
     "name": "stdout",
     "output_type": "stream",
     "text": [
      "F1: 0.75663\n",
      "Jaccard: 0.67430\n",
      "Recall: 0.74261\n",
      "Precision: 0.82589\n"
     ]
    },
    {
     "name": "stderr",
     "output_type": "stream",
     "text": [
      "\n"
     ]
    }
   ],
   "source": [
    "SCORE = []\n",
    "for x, y in tqdm(zip(test_x, test_y), total=len(test_y)):\n",
    "    \"\"\" Extracting the name \"\"\"\n",
    "    name = x.split(\"/\")[-1]\n",
    "\n",
    "    \"\"\" Reading the image \"\"\"\n",
    "    image = cv2.imread(x, cv2.IMREAD_COLOR) ## [H, w, 3]\n",
    "    image = cv2.resize(image, (W, H))       ## [H, w, 3]\n",
    "    x = image/255.0                         ## [H, w, 3]\n",
    "    x = np.expand_dims(x, axis=0)           ## [1, H, w, 3]\n",
    "\n",
    "    \"\"\" Reading the mask \"\"\"\n",
    "    mask = cv2.imread(y, cv2.IMREAD_GRAYSCALE)\n",
    "    mask = cv2.resize(mask, (W, H))\n",
    "\n",
    "    \"\"\" Prediction \"\"\"\n",
    "    y_pred = model.predict(x, verbose=0)[0]\n",
    "    y_pred = np.squeeze(y_pred, axis=-1)\n",
    "    y_pred = y_pred >= 0.5\n",
    "    y_pred = y_pred.astype(np.int32)\n",
    "\n",
    "    \"\"\" Saving the prediction \"\"\"\n",
    "    save_image_path = os.path.join(\"results\", name)\n",
    "    save_results(image, mask, y_pred, save_image_path)\n",
    "\n",
    "    \"\"\" Flatten the array \"\"\"\n",
    "    mask = mask/255.0\n",
    "    mask = (mask > 0.5).astype(np.int32).flatten()\n",
    "    y_pred = y_pred.flatten()\n",
    "\n",
    "    \"\"\" Calculating the metrics values \"\"\"\n",
    "    f1_value = f1_score(mask, y_pred, labels=[0, 1], average=\"binary\")\n",
    "    jac_value = jaccard_score(mask, y_pred, labels=[0, 1], average=\"binary\")\n",
    "    recall_value = recall_score(mask, y_pred, labels=[0, 1], average=\"binary\", zero_division=0)\n",
    "    precision_value = precision_score(mask, y_pred, labels=[0, 1], average=\"binary\", zero_division=0)\n",
    "    SCORE.append([name, f1_value, jac_value, recall_value, precision_value])\n",
    "\n",
    "\"\"\" Metrics values \"\"\"\n",
    "score = [s[1:]for s in SCORE]\n",
    "score = np.mean(score, axis=0)\n",
    "print(f\"F1: {score[0]:0.5f}\")\n",
    "print(f\"Jaccard: {score[1]:0.5f}\")\n",
    "print(f\"Recall: {score[2]:0.5f}\")\n",
    "print(f\"Precision: {score[3]:0.5f}\")\n",
    "\n",
    "df = pd.DataFrame(SCORE, columns=[\"Image\", \"F1\", \"Jaccard\", \"Recall\", \"Precision\"])\n",
    "df.to_csv(\"files/score.csv\", index=None)"
   ]
  },
  {
   "cell_type": "code",
   "execution_count": 25,
   "id": "1300169c",
   "metadata": {
    "execution": {
     "iopub.execute_input": "2023-04-06T02:34:43.990152Z",
     "iopub.status.busy": "2023-04-06T02:34:43.989751Z",
     "iopub.status.idle": "2023-04-06T02:34:44.005417Z",
     "shell.execute_reply": "2023-04-06T02:34:44.004188Z"
    },
    "papermill": {
     "duration": 0.073617,
     "end_time": "2023-04-06T02:34:44.008148",
     "exception": false,
     "start_time": "2023-04-06T02:34:43.934531",
     "status": "completed"
    },
    "tags": []
   },
   "outputs": [
    {
     "data": {
      "text/html": [
       "<div>\n",
       "<style scoped>\n",
       "    .dataframe tbody tr th:only-of-type {\n",
       "        vertical-align: middle;\n",
       "    }\n",
       "\n",
       "    .dataframe tbody tr th {\n",
       "        vertical-align: top;\n",
       "    }\n",
       "\n",
       "    .dataframe thead th {\n",
       "        text-align: right;\n",
       "    }\n",
       "</style>\n",
       "<table border=\"1\" class=\"dataframe\">\n",
       "  <thead>\n",
       "    <tr style=\"text-align: right;\">\n",
       "      <th></th>\n",
       "      <th>Image</th>\n",
       "      <th>F1</th>\n",
       "      <th>Jaccard</th>\n",
       "      <th>Recall</th>\n",
       "      <th>Precision</th>\n",
       "    </tr>\n",
       "  </thead>\n",
       "  <tbody>\n",
       "    <tr>\n",
       "      <th>0</th>\n",
       "      <td>833.png</td>\n",
       "      <td>0.929902</td>\n",
       "      <td>0.868988</td>\n",
       "      <td>0.922535</td>\n",
       "      <td>0.937388</td>\n",
       "    </tr>\n",
       "    <tr>\n",
       "      <th>1</th>\n",
       "      <td>2069.png</td>\n",
       "      <td>0.880569</td>\n",
       "      <td>0.786622</td>\n",
       "      <td>0.988298</td>\n",
       "      <td>0.794017</td>\n",
       "    </tr>\n",
       "    <tr>\n",
       "      <th>2</th>\n",
       "      <td>3038.png</td>\n",
       "      <td>0.787639</td>\n",
       "      <td>0.649673</td>\n",
       "      <td>0.774143</td>\n",
       "      <td>0.801613</td>\n",
       "    </tr>\n",
       "  </tbody>\n",
       "</table>\n",
       "</div>"
      ],
      "text/plain": [
       "      Image        F1   Jaccard    Recall  Precision\n",
       "0   833.png  0.929902  0.868988  0.922535   0.937388\n",
       "1  2069.png  0.880569  0.786622  0.988298   0.794017\n",
       "2  3038.png  0.787639  0.649673  0.774143   0.801613"
      ]
     },
     "execution_count": 25,
     "metadata": {},
     "output_type": "execute_result"
    }
   ],
   "source": [
    "scores = pd.read_csv(\"/kaggle/working/files/score.csv\")\n",
    "scores.head(3)"
   ]
  },
  {
   "cell_type": "markdown",
   "id": "3e8bb76c",
   "metadata": {
    "papermill": {
     "duration": 0.054871,
     "end_time": "2023-04-06T02:34:44.128528",
     "exception": false,
     "start_time": "2023-04-06T02:34:44.073657",
     "status": "completed"
    },
    "tags": []
   },
   "source": [
    "# Plot predicted images"
   ]
  },
  {
   "cell_type": "code",
   "execution_count": 26,
   "id": "a7a99572",
   "metadata": {
    "execution": {
     "iopub.execute_input": "2023-04-06T02:34:44.237354Z",
     "iopub.status.busy": "2023-04-06T02:34:44.236974Z",
     "iopub.status.idle": "2023-04-06T02:34:44.508100Z",
     "shell.execute_reply": "2023-04-06T02:34:44.506896Z"
    },
    "papermill": {
     "duration": 0.328322,
     "end_time": "2023-04-06T02:34:44.510432",
     "exception": false,
     "start_time": "2023-04-06T02:34:44.182110",
     "status": "completed"
    },
    "tags": []
   },
   "outputs": [
    {
     "data": {
      "text/plain": [
       "<matplotlib.image.AxesImage at 0x7268ac79a550>"
      ]
     },
     "execution_count": 26,
     "metadata": {},
     "output_type": "execute_result"
    },
    {
     "data": {
      "image/png": "[encoded data removed]",
      "text/plain": [
       "<Figure size 640x480 with 1 Axes>"
      ]
     },
     "metadata": {},
     "output_type": "display_data"
    }
   ],
   "source": [
    "dir = \"/kaggle/working/results/\"\n",
    "images = os.listdir(\"/kaggle/working/results\")[:5]\n",
    "img1 = plt.imread(dir+images[0])\n",
    "plt.imshow(img1, cmap='gray')"
   ]
  },
  {
   "cell_type": "code",
   "execution_count": 27,
   "id": "865eea8d",
   "metadata": {
    "execution": {
     "iopub.execute_input": "2023-04-06T02:34:44.622680Z",
     "iopub.status.busy": "2023-04-06T02:34:44.621648Z",
     "iopub.status.idle": "2023-04-06T02:34:44.874450Z",
     "shell.execute_reply": "2023-04-06T02:34:44.873457Z"
    },
    "papermill": {
     "duration": 0.311142,
     "end_time": "2023-04-06T02:34:44.876750",
     "exception": false,
     "start_time": "2023-04-06T02:34:44.565608",
     "status": "completed"
    },
    "tags": []
   },
   "outputs": [
    {
     "data": {
      "text/plain": [
       "<matplotlib.image.AxesImage at 0x7268aca64750>"
      ]
     },
     "execution_count": 27,
     "metadata": {},
     "output_type": "execute_result"
    },
    {
     "data": {
      "image/png": "[encoded data removed]",
      "text/plain": [
       "<Figure size 640x480 with 1 Axes>"
      ]
     },
     "metadata": {},
     "output_type": "display_data"
    }
   ],
   "source": [
    "img1 = plt.imread(dir+images[1])\n",
    "plt.imshow(img1, cmap='gray')"
   ]
  },
  {
   "cell_type": "code",
   "execution_count": 28,
   "id": "a8072e6e",
   "metadata": {
    "execution": {
     "iopub.execute_input": "2023-04-06T02:34:44.990420Z",
     "iopub.status.busy": "2023-04-06T02:34:44.989312Z",
     "iopub.status.idle": "2023-04-06T02:34:45.250624Z",
     "shell.execute_reply": "2023-04-06T02:34:45.249590Z"
    },
    "papermill": {
     "duration": 0.321161,
     "end_time": "2023-04-06T02:34:45.252998",
     "exception": false,
     "start_time": "2023-04-06T02:34:44.931837",
     "status": "completed"
    },
    "tags": []
   },
   "outputs": [
    {
     "data": {
      "text/plain": [
       "<matplotlib.image.AxesImage at 0x7268ac9ce190>"
      ]
     },
     "execution_count": 28,
     "metadata": {},
     "output_type": "execute_result"
    },
    {
     "data": {
      "image/png": "[encoded data removed]",
      "text/plain": [
       "<Figure size 640x480 with 1 Axes>"
      ]
     },
     "metadata": {},
     "output_type": "display_data"
    }
   ],
   "source": [
    "img1 = plt.imread(dir+images[2])\n",
    "plt.imshow(img1, cmap='gray')"
   ]
  },
  {
   "cell_type": "code",
   "execution_count": null,
   "id": "a5740085",
   "metadata": {
    "papermill": {
     "duration": 0.058133,
     "end_time": "2023-04-06T02:34:45.367754",
     "exception": false,
     "start_time": "2023-04-06T02:34:45.309621",
     "status": "completed"
    },
    "tags": []
   },
   "outputs": [],
   "source": []
  }
 ],
 "metadata": {
  "kernelspec": {
   "display_name": "Python 3",
   "language": "python",
   "name": "python3"
  },
  "language_info": {
   "codemirror_mode": {
    "name": "ipython",
    "version": 3
   },
   "file_extension": ".py",
   "mimetype": "text/x-python",
   "name": "python",
   "nbconvert_exporter": "python",
   "pygments_lexer": "ipython3",
   "version": "3.7.12"
  },
  "papermill": {
   "default_parameters": {},
   "duration": 3684.649232,
   "end_time": "2023-04-06T02:34:48.643351",
   "environment_variables": {},
   "exception": null,
   "input_path": "__notebook__.ipynb",
   "output_path": "__notebook__.ipynb",
   "parameters": {},
   "start_time": "2023-04-06T01:33:23.994119",
   "version": "2.4.0"
  }
 },
 "nbformat": 4,
 "nbformat_minor": 5
}
